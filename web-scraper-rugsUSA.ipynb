{
 "cells": [
  {
   "cell_type": "markdown",
   "id": "cadc7af1",
   "metadata": {},
   "source": [
    "# Price Scraper for RugsUSA"
   ]
  },
  {
   "cell_type": "code",
   "execution_count": 2,
   "id": "ef13a8c8",
   "metadata": {},
   "outputs": [],
   "source": [
    "import pandas as pd\n",
    "import requests\n",
    "import os\n",
    "from bs4 import BeautifulSoup\n",
    "from random import randint\n",
    "from time import sleep\n",
    "#from random_user_agent.user_agent import UserAgent\n",
    "#from random_user_agent.params import SoftwareName, OperatingSystem"
   ]
  },
  {
   "cell_type": "code",
   "execution_count": 3,
   "id": "20faea3d",
   "metadata": {},
   "outputs": [
    {
     "data": {
      "text/plain": [
       "'/Users/Daniel.Kwon/projects/web-scraper'"
      ]
     },
     "execution_count": 3,
     "metadata": {},
     "output_type": "execute_result"
    }
   ],
   "source": [
    "os.getcwd()"
   ]
  },
  {
   "cell_type": "code",
   "execution_count": 4,
   "id": "afc1e2fa",
   "metadata": {},
   "outputs": [],
   "source": [
    "def extract_source(url):\n",
    "    headers = {'User-Agent': 'Mozilla/5.0 (Macintosh; Intel Mac OS X 10_15_7) AppleWebKit/537.36 (KHTML, like Gecko) Chrome/91.0.4472.77 Safari/537.36'}\n",
    "    source=requests.get(url, headers=headers)\n",
    "    return source"
   ]
  },
  {
   "cell_type": "code",
   "execution_count": 409,
   "id": "27f11d07",
   "metadata": {},
   "outputs": [],
   "source": [
    "#first_page = soup.find(id='ui_target')\n",
    "#print(first_page.prettify())\n",
    "#last_page_elem = first_page.find('span',class_=\"suffix\")\n",
    "#last_page = last_page_elem.text\n",
    "#last_page = [int(s) for s in last_page.split() if s.isdigit()][0]\n",
    "#if last_page > 10: \n",
    "#    max_page = 5\n",
    "#else:\n",
    "#    max_page = last_page"
   ]
  },
  {
   "cell_type": "code",
   "execution_count": 5,
   "id": "6a1ae4c1",
   "metadata": {},
   "outputs": [],
   "source": [
    "df_scraped_prices = None"
   ]
  },
  {
   "cell_type": "code",
   "execution_count": 6,
   "id": "e5967a51",
   "metadata": {},
   "outputs": [],
   "source": [
    "URL = \"https://www.rugsusa.com/rugsusa/control/search-rugs\"\n",
    "#URL = \"https://www.rugsusa.com/rugsusa/control/search-rugs?style_group=Country%20%26%20Floral\"\n",
    "page = extract_source(URL)\n",
    "soup = BeautifulSoup(page.text, 'html.parser')"
   ]
  },
  {
   "cell_type": "code",
   "execution_count": 7,
   "id": "e7d76444",
   "metadata": {},
   "outputs": [
    {
     "ename": "AttributeError",
     "evalue": "'NoneType' object has no attribute 'find_all'",
     "output_type": "error",
     "traceback": [
      "\u001b[0;31m---------------------------------------------------------------------------\u001b[0m",
      "\u001b[0;31mAttributeError\u001b[0m                            Traceback (most recent call last)",
      "\u001b[0;32m/var/folders/b5/szbzlnqn0xz6b782_khmpt0m0000gp/T/ipykernel_5437/3018399883.py\u001b[0m in \u001b[0;36m<module>\u001b[0;34m\u001b[0m\n\u001b[1;32m      1\u001b[0m \u001b[0mfilters\u001b[0m \u001b[0;34m=\u001b[0m \u001b[0msoup\u001b[0m\u001b[0;34m.\u001b[0m\u001b[0mfind\u001b[0m\u001b[0;34m(\u001b[0m\u001b[0mid\u001b[0m\u001b[0;34m=\u001b[0m\u001b[0;34m'facetContainer'\u001b[0m\u001b[0;34m)\u001b[0m\u001b[0;34m\u001b[0m\u001b[0;34m\u001b[0m\u001b[0m\n\u001b[0;32m----> 2\u001b[0;31m size_filters = filters.find_all('a',{\"class\": \"facetcouple\",\n\u001b[0m\u001b[1;32m      3\u001b[0m                                      \"data-filter\": \"size_grp\"})\n\u001b[1;32m      4\u001b[0m style_filters = filters.find_all('a',{\"class\": \"facetcouple\",\n\u001b[1;32m      5\u001b[0m                                      \"data-filter\": \"style_group\"})\n",
      "\u001b[0;31mAttributeError\u001b[0m: 'NoneType' object has no attribute 'find_all'"
     ]
    }
   ],
   "source": [
    "filters = soup.find(id='facetContainer')\n",
    "size_filters = filters.find_all('a',{\"class\": \"facetcouple\",\n",
    "                                     \"data-filter\": \"size_grp\"})\n",
    "style_filters = filters.find_all('a',{\"class\": \"facetcouple\",\n",
    "                                     \"data-filter\": \"style_group\"})"
   ]
  },
  {
   "cell_type": "code",
   "execution_count": 413,
   "id": "c9b1af48",
   "metadata": {},
   "outputs": [],
   "source": [
    "data = []\n",
    "for style_filter in style_filters:\n",
    "    style_option = style_filter.find('span',class_='facet_val')\n",
    "    for size_filter in size_filters:\n",
    "        size_option = size_filter.find('span',class_='facet_val')\n",
    "        new_URL = \"https://www.rugsusa.com/rugsusa/control/search-rugs?style_group={style}&size_grp={size}\".format(style=style_option.text.\n",
    "                                                                                                                   replace(' & ','%20%26%20').\n",
    "                                                                                                                   replace(' ','%20'),\n",
    "                                                                                                                   size=size_option.text.\n",
    "                                                                                                                   replace(' ','%20'))\n",
    "        new_page = extract_source(new_URL)\n",
    "        sleep(randint(1,5))\n",
    "        new_soup = BeautifulSoup(new_page.text, 'html.parser')\n",
    "        results = new_soup.find(id='searchTarget')\n",
    "        rug_listings = results.find_all('div',class_=\"resultTile prod productCard productinfoimagewithbadgesmask\")\n",
    "        for rug_listing in rug_listings:\n",
    "            name_elem = rug_listing.find('div',class_='productname1 head-text')\n",
    "            msrp_price_elem = rug_listing.find('span', class_='msrp body-text')\n",
    "            default_price_elem = rug_listing.find('span', class_='default_price accent-text')\n",
    "            num_review_elem = rug_listing.find('div', class_ = 'amountofreviews')\n",
    "            image_url = rug_listing.find('div', class_= 'imagewithbadges')['data-secondary-img-url']\n",
    "            data.append([name_elem.text, \n",
    "                         'N/A' if msrp_price_elem is None else msrp_price_elem.text, \n",
    "                         'N/A' if default_price_elem is None else default_price_elem.text,\n",
    "                         -1 if num_review_elem is None else int(num_review_elem.text.replace('','').replace('(','').replace(')','')),\n",
    "                         size_option.text,\n",
    "                         style_option.text,\n",
    "                         'N/A' if image_url is None else image_url\n",
    "                        ])"
   ]
  },
  {
   "cell_type": "code",
   "execution_count": 416,
   "id": "0a481778",
   "metadata": {},
   "outputs": [],
   "source": [
    "if df_scraped_prices is None:\n",
    "    df_scraped_prices = pd.DataFrame(data, columns=[\"rug_name\",\"msrp_price\",\"list_price\",\"num_reviews\",\"size\",\"category\",\"image_url\"])\n",
    "else:\n",
    "    df_data = pd.DataFrame(data, columns=[\"rug_name\",\"msrp_price\",\"list_price\",\"num_reviews\",\"size\",\"category\",\"image_url\"])\n",
    "    df_scraped_prices = df_scraped_prices.append(df_data)\n",
    "df_scraped_prices.drop_duplicates(inplace=True)"
   ]
  },
  {
   "cell_type": "code",
   "execution_count": 417,
   "id": "5f8662a3",
   "metadata": {},
   "outputs": [
    {
     "data": {
      "text/html": [
       "<div>\n",
       "<style scoped>\n",
       "    .dataframe tbody tr th:only-of-type {\n",
       "        vertical-align: middle;\n",
       "    }\n",
       "\n",
       "    .dataframe tbody tr th {\n",
       "        vertical-align: top;\n",
       "    }\n",
       "\n",
       "    .dataframe thead th {\n",
       "        text-align: right;\n",
       "    }\n",
       "</style>\n",
       "<table border=\"1\" class=\"dataframe\">\n",
       "  <thead>\n",
       "    <tr style=\"text-align: right;\">\n",
       "      <th></th>\n",
       "      <th>rug_name</th>\n",
       "      <th>msrp_price</th>\n",
       "      <th>list_price</th>\n",
       "      <th>num_reviews</th>\n",
       "      <th>size</th>\n",
       "      <th>category</th>\n",
       "      <th>image_url</th>\n",
       "    </tr>\n",
       "  </thead>\n",
       "  <tbody>\n",
       "    <tr>\n",
       "      <th>0</th>\n",
       "      <td>2' x 3' Leopard Print Rug</td>\n",
       "      <td>$60</td>\n",
       "      <td>$26</td>\n",
       "      <td>417</td>\n",
       "      <td>2x3</td>\n",
       "      <td>Animal Prints</td>\n",
       "      <td>//www.rug-images.com/products/s/200RZBD61A.jpg...</td>\n",
       "    </tr>\n",
       "    <tr>\n",
       "      <th>1</th>\n",
       "      <td>2' x 3' Contemporary Zebra Print with Faux Sil...</td>\n",
       "      <td>$100</td>\n",
       "      <td>$39</td>\n",
       "      <td>415</td>\n",
       "      <td>2x3</td>\n",
       "      <td>Animal Prints</td>\n",
       "      <td>//www.rug-images.com/products/s/200ZF5.jpg?pur...</td>\n",
       "    </tr>\n",
       "    <tr>\n",
       "      <th>2</th>\n",
       "      <td>2' x 3' ATH5120 Rug</td>\n",
       "      <td>N/A</td>\n",
       "      <td>N/A</td>\n",
       "      <td>2</td>\n",
       "      <td>2x3</td>\n",
       "      <td>Animal Prints</td>\n",
       "      <td>//www.rug-images.com/products/s/158ATH5120.jpg...</td>\n",
       "    </tr>\n",
       "    <tr>\n",
       "      <th>3</th>\n",
       "      <td>2' x 3' ATH5120 Rug</td>\n",
       "      <td>N/A</td>\n",
       "      <td>N/A</td>\n",
       "      <td>2</td>\n",
       "      <td>2x3</td>\n",
       "      <td>Animal Prints</td>\n",
       "      <td>//www.rug-images.com/products/s/158ATH5000.jpg...</td>\n",
       "    </tr>\n",
       "    <tr>\n",
       "      <th>4</th>\n",
       "      <td>2' x 3' ATH5120 Rug</td>\n",
       "      <td>N/A</td>\n",
       "      <td>N/A</td>\n",
       "      <td>2</td>\n",
       "      <td>2x3</td>\n",
       "      <td>Animal Prints</td>\n",
       "      <td>//www.rug-images.com/products/s/158ATH5114.jpg...</td>\n",
       "    </tr>\n",
       "    <tr>\n",
       "      <th>...</th>\n",
       "      <td>...</td>\n",
       "      <td>...</td>\n",
       "      <td>...</td>\n",
       "      <td>...</td>\n",
       "      <td>...</td>\n",
       "      <td>...</td>\n",
       "      <td>...</td>\n",
       "    </tr>\n",
       "    <tr>\n",
       "      <th>15313</th>\n",
       "      <td>2' 6\" x 10' Faded Abstract Washable Rug</td>\n",
       "      <td>$220</td>\n",
       "      <td>$99</td>\n",
       "      <td>10</td>\n",
       "      <td>10ft and up Runner</td>\n",
       "      <td>Washable</td>\n",
       "      <td>//www.rug-images.com/products/s/200BIRV08A.jpg...</td>\n",
       "    </tr>\n",
       "    <tr>\n",
       "      <th>15314</th>\n",
       "      <td>2' 6\" x 10' Rosette Medallion Washable Rug</td>\n",
       "      <td>$220</td>\n",
       "      <td>$99</td>\n",
       "      <td>18</td>\n",
       "      <td>10ft and up Runner</td>\n",
       "      <td>Washable</td>\n",
       "      <td>//www.rug-images.com/products/s/200BIRV02A.jpg...</td>\n",
       "    </tr>\n",
       "    <tr>\n",
       "      <th>15315</th>\n",
       "      <td>2' 6\" x 10' Hazy Heraldry Washable Rug</td>\n",
       "      <td>$220</td>\n",
       "      <td>$99</td>\n",
       "      <td>17</td>\n",
       "      <td>10ft and up Runner</td>\n",
       "      <td>Washable</td>\n",
       "      <td>//www.rug-images.com/products/s/200HJAU13A.jpg...</td>\n",
       "    </tr>\n",
       "    <tr>\n",
       "      <th>15316</th>\n",
       "      <td>2' 6\" x 10' Jungle Washable Rug</td>\n",
       "      <td>$220</td>\n",
       "      <td>$99</td>\n",
       "      <td>5</td>\n",
       "      <td>10ft and up Runner</td>\n",
       "      <td>Washable</td>\n",
       "      <td>//www.rug-images.com/products/s/200HJAU01A.jpg...</td>\n",
       "    </tr>\n",
       "    <tr>\n",
       "      <th>15317</th>\n",
       "      <td>2' 6\" x 12' Jewel Medallion Washable Rug</td>\n",
       "      <td>$243</td>\n",
       "      <td>$109</td>\n",
       "      <td>12</td>\n",
       "      <td>10ft and up Runner</td>\n",
       "      <td>Washable</td>\n",
       "      <td>//www.rug-images.com/products/s/200HJAU11A.jpg...</td>\n",
       "    </tr>\n",
       "  </tbody>\n",
       "</table>\n",
       "<p>15318 rows × 7 columns</p>\n",
       "</div>"
      ],
      "text/plain": [
       "                                                rug_name msrp_price  \\\n",
       "0                              2' x 3' Leopard Print Rug        $60   \n",
       "1      2' x 3' Contemporary Zebra Print with Faux Sil...       $100   \n",
       "2                                    2' x 3' ATH5120 Rug        N/A   \n",
       "3                                    2' x 3' ATH5120 Rug        N/A   \n",
       "4                                    2' x 3' ATH5120 Rug        N/A   \n",
       "...                                                  ...        ...   \n",
       "15313            2' 6\" x 10' Faded Abstract Washable Rug       $220   \n",
       "15314         2' 6\" x 10' Rosette Medallion Washable Rug       $220   \n",
       "15315             2' 6\" x 10' Hazy Heraldry Washable Rug       $220   \n",
       "15316                    2' 6\" x 10' Jungle Washable Rug       $220   \n",
       "15317           2' 6\" x 12' Jewel Medallion Washable Rug       $243   \n",
       "\n",
       "      list_price  num_reviews                size       category  \\\n",
       "0            $26          417                 2x3  Animal Prints   \n",
       "1            $39          415                 2x3  Animal Prints   \n",
       "2            N/A            2                 2x3  Animal Prints   \n",
       "3            N/A            2                 2x3  Animal Prints   \n",
       "4            N/A            2                 2x3  Animal Prints   \n",
       "...          ...          ...                 ...            ...   \n",
       "15313        $99           10  10ft and up Runner       Washable   \n",
       "15314        $99           18  10ft and up Runner       Washable   \n",
       "15315        $99           17  10ft and up Runner       Washable   \n",
       "15316        $99            5  10ft and up Runner       Washable   \n",
       "15317       $109           12  10ft and up Runner       Washable   \n",
       "\n",
       "                                               image_url  \n",
       "0      //www.rug-images.com/products/s/200RZBD61A.jpg...  \n",
       "1      //www.rug-images.com/products/s/200ZF5.jpg?pur...  \n",
       "2      //www.rug-images.com/products/s/158ATH5120.jpg...  \n",
       "3      //www.rug-images.com/products/s/158ATH5000.jpg...  \n",
       "4      //www.rug-images.com/products/s/158ATH5114.jpg...  \n",
       "...                                                  ...  \n",
       "15313  //www.rug-images.com/products/s/200BIRV08A.jpg...  \n",
       "15314  //www.rug-images.com/products/s/200BIRV02A.jpg...  \n",
       "15315  //www.rug-images.com/products/s/200HJAU13A.jpg...  \n",
       "15316  //www.rug-images.com/products/s/200HJAU01A.jpg...  \n",
       "15317  //www.rug-images.com/products/s/200HJAU11A.jpg...  \n",
       "\n",
       "[15318 rows x 7 columns]"
      ]
     },
     "execution_count": 417,
     "metadata": {},
     "output_type": "execute_result"
    }
   ],
   "source": [
    "df_scraped_prices"
   ]
  },
  {
   "cell_type": "code",
   "execution_count": 418,
   "id": "92f8fe75",
   "metadata": {},
   "outputs": [],
   "source": [
    "df_scraped_prices.to_csv('{}/rugsUSA_scraped_prices.csv'.format(os.getcwd()), index=False)"
   ]
  },
  {
   "cell_type": "markdown",
   "id": "e989d8bd",
   "metadata": {},
   "source": [
    "### Competitors\n",
    "- 6 comepttiors\n",
    "- UK competitors / comps"
   ]
  },
  {
   "cell_type": "code",
   "execution_count": null,
   "id": "1dc058d4",
   "metadata": {},
   "outputs": [],
   "source": []
  }
 ],
 "metadata": {
  "kernelspec": {
   "display_name": "webscraper",
   "language": "python",
   "name": "webscraper"
  },
  "language_info": {
   "codemirror_mode": {
    "name": "ipython",
    "version": 3
   },
   "file_extension": ".py",
   "mimetype": "text/x-python",
   "name": "python",
   "nbconvert_exporter": "python",
   "pygments_lexer": "ipython3",
   "version": "3.9.5"
  }
 },
 "nbformat": 4,
 "nbformat_minor": 5
}
